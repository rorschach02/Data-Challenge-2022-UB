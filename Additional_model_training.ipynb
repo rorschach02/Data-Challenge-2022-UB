{
 "cells": [
  {
   "cell_type": "code",
   "execution_count": 181,
   "id": "db68c733",
   "metadata": {},
   "outputs": [],
   "source": [
    "import pandas as pd\n",
    "from sklearn.feature_extraction.text import CountVectorizer\n",
    "from sklearn.feature_extraction.text import TfidfVectorizer\n",
    "\n",
    "#Read the preprocessed CSV file\n",
    "\n",
    "# url = 'https://raw.githubusercontent.com/rorschach02/Data-Challenge-2022-UB/main/preprocessed_data.csv'\n",
    "df = pd.read_csv(\"preprocessed.csv\", index_col=0)"
   ]
  },
  {
   "cell_type": "code",
   "execution_count": 182,
   "id": "59c66bb6",
   "metadata": {},
   "outputs": [],
   "source": [
    "df = df.head(2500)\n",
    "# df = df.drop(['id', 'author', 'url', 'score', 'subreddit', 'over_18', 'title_clean', 'selftext_clean', 'titlelen', 'selftextlen', 'title_n_words', 'selftext_n_words'], axis=1)"
   ]
  },
  {
   "cell_type": "code",
   "execution_count": 183,
   "id": "248aa24d",
   "metadata": {},
   "outputs": [],
   "source": [
    "df['class'] = df['class'].astype(object)\n",
    "df.isna().sum()\n",
    "df.dropna(inplace=True)"
   ]
  },
  {
   "cell_type": "code",
   "execution_count": 184,
   "id": "a4c30075",
   "metadata": {},
   "outputs": [],
   "source": [
    "from sklearn.feature_extraction.text import HashingVectorizer \n",
    "import numpy as np"
   ]
  },
  {
   "cell_type": "code",
   "execution_count": 185,
   "id": "432cb3d8",
   "metadata": {},
   "outputs": [],
   "source": [
    "#Model development\n",
    "from sklearn.model_selection import train_test_split\n",
    "from sklearn import metrics\n",
    "\n",
    "x = df[\"text\"]\n",
    "y = df[\"class\"].astype(int)\n",
    "x_train,x_test, y_train, y_test = train_test_split(x,y,test_size=0.2,random_state=40)"
   ]
  },
  {
   "cell_type": "code",
   "execution_count": 186,
   "id": "6e2fa7a0",
   "metadata": {},
   "outputs": [],
   "source": [
    "cv = CountVectorizer(ngram_range=(1,3))\n",
    "tf = TfidfVectorizer(ngram_range=(1,3))\n",
    "x1 = cv.fit_transform(x_train)\n",
    "x2 = tf.fit_transform(x_train)"
   ]
  },
  {
   "cell_type": "code",
   "execution_count": 187,
   "id": "c6244362",
   "metadata": {},
   "outputs": [],
   "source": [
    "#Creating a dictionary\n",
    "vectorizer = {\"TfidfVectorizer\":tf, \"CountVectorizer\":cv}\n",
    "model = {}\n",
    "accuracy = {}"
   ]
  },
  {
   "cell_type": "code",
   "execution_count": 188,
   "id": "abad92fa",
   "metadata": {},
   "outputs": [
    {
     "name": "stdout",
     "output_type": "stream",
     "text": [
      "CountVectorizer - Support Vector Machine\n",
      "Accuracy:  81.8 %\n",
      "Recall  : 0.6588\n"
     ]
    }
   ],
   "source": [
    "#Support Vector Machine\n",
    "\n",
    "from sklearn import svm\n",
    "\n",
    "classifier = svm.SVC()\n",
    "classifier.fit(x1,y_train)\n",
    "y_pred = classifier.predict(cv.transform(x_test))\n",
    "mod = \"CountVectorizer - Support Vector Machine\"\n",
    "model[mod]=classifier\n",
    "\n",
    "acc_score = metrics.accuracy_score(y_test, y_pred)\n",
    "recall = metrics.recall_score(y_test, y_pred)\n",
    "accuracy[mod] = float(\"{0:.4f}\".format(acc_score))*100\n",
    "print(mod)\n",
    "print(\"Accuracy: \",accuracy[mod],\"%\")\n",
    "print(\"Recall  : {0:.4f}\".format(recall))"
   ]
  },
  {
   "cell_type": "code",
   "execution_count": 189,
   "id": "e22be073",
   "metadata": {},
   "outputs": [
    {
     "name": "stdout",
     "output_type": "stream",
     "text": [
      "TfidfVectorizer - Support Vector Machine\n",
      "Accuracy:  84.8 %\n",
      "Recall  : 0.9289\n"
     ]
    }
   ],
   "source": [
    "classifier = svm.SVC()\n",
    "classifier.fit(x2,y_train)\n",
    "y_pred = classifier.predict(tf.transform(x_test))\n",
    "mod = \"TfidfVectorizer - Support Vector Machine\"\n",
    "model[mod] = classifier\n",
    "\n",
    "acc_score = metrics.accuracy_score(y_test, y_pred)\n",
    "recall = metrics.recall_score(y_test, y_pred)\n",
    "accuracy[mod] = float(\"{0:.4f}\".format(acc_score))*100\n",
    "print(mod)\n",
    "print(\"Accuracy: \",accuracy[mod],\"%\")\n",
    "print(\"Recall  : {0:.4f}\".format(recall))"
   ]
  },
  {
   "cell_type": "code",
   "execution_count": 190,
   "id": "cab4f74a",
   "metadata": {},
   "outputs": [
    {
     "name": "stdout",
     "output_type": "stream",
     "text": [
      "CountVectorizer - Multinomial Naive Bayes\n",
      "Accuracy:  57.8 %\n",
      "Recall  : 0.0000\n"
     ]
    }
   ],
   "source": [
    "#Multinomian Naive Bayes\n",
    "\n",
    "from sklearn.naive_bayes import MultinomialNB\n",
    "\n",
    "nb = MultinomialNB()\n",
    "nb.fit(x1,y_train)\n",
    "y_pred = classifier.predict(cv.transform(x_test))\n",
    "mod = \"CountVectorizer - Multinomial Naive Bayes\"\n",
    "model[mod] = nb\n",
    "\n",
    "acc_score = metrics.accuracy_score(y_test, y_pred)\n",
    "recall = metrics.recall_score(y_test, y_pred)\n",
    "accuracy[mod] = float(\"{0:.4f}\".format(acc_score))\n",
    "print(mod)\n",
    "print(\"Accuracy: \",accuracy[mod]*100,\"%\")\n",
    "print(\"Recall  : {0:.4f}\".format(recall))"
   ]
  },
  {
   "cell_type": "code",
   "execution_count": 191,
   "id": "6298b275",
   "metadata": {},
   "outputs": [
    {
     "name": "stdout",
     "output_type": "stream",
     "text": [
      "TfidfVectorizer - Multinomial Naive Bayes\n",
      "Accuracy:  84.8 %\n",
      "Recall  : 0.9289\n"
     ]
    }
   ],
   "source": [
    "nb = MultinomialNB()\n",
    "nb.fit(x2,y_train)\n",
    "y_pred=classifier.predict(tf.transform(x_test))\n",
    "mod = \"TfidfVectorizer - Multinomial Naive Bayes\"\n",
    "model[mod]=nb\n",
    "\n",
    "acc_score=metrics.accuracy_score(y_test,y_pred)\n",
    "recall = metrics.recall_score(y_test, y_pred)\n",
    "accuracy[mod] = float(\"{0:.4f}\".format(acc_score))\n",
    "print(mod)\n",
    "print(\"Accuracy: \",accuracy[mod]*100,\"%\")\n",
    "print(\"Recall  : {0:.4f}\".format(recall))"
   ]
  },
  {
   "cell_type": "code",
   "execution_count": null,
   "id": "a548e94e",
   "metadata": {},
   "outputs": [],
   "source": []
  }
 ],
 "metadata": {
  "kernelspec": {
   "display_name": "Python 3 (ipykernel)",
   "language": "python",
   "name": "python3"
  },
  "language_info": {
   "codemirror_mode": {
    "name": "ipython",
    "version": 3
   },
   "file_extension": ".py",
   "mimetype": "text/x-python",
   "name": "python",
   "nbconvert_exporter": "python",
   "pygments_lexer": "ipython3",
   "version": "3.9.12"
  }
 },
 "nbformat": 4,
 "nbformat_minor": 5
}
